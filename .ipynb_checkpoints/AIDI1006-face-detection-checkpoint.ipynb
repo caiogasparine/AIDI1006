{
 "cells": [
  {
   "cell_type": "code",
   "execution_count": 6,
   "id": "9d3ba9ac",
   "metadata": {},
   "outputs": [
    {
     "name": "stdout",
     "output_type": "stream",
     "text": [
      "[{\"faceId\": \"34a4e828-eb14-49fa-abf7-82f83f180f6c\", \"faceRectangle\": {\"top\": 159, \"left\": 488, \"width\": 72, \"height\": 99}}, {\"faceId\": \"e6a80b65-c7db-49f1-a8fd-531dd25a4b59\", \"faceRectangle\": {\"top\": 165, \"left\": 185, \"width\": 73, \"height\": 96}}, {\"faceId\": \"175c32d6-f984-47b3-b36b-85f7b220689d\", \"faceRectangle\": {\"top\": 11, \"left\": 184, \"width\": 68, \"height\": 98}}, {\"faceId\": \"24a0a185-81de-4b53-8d25-c17ff3f01bff\", \"faceRectangle\": {\"top\": 161, \"left\": 635, \"width\": 65, \"height\": 94}}, {\"faceId\": \"9d6d39e4-bfa4-42f6-8761-a5232999c63f\", \"faceRectangle\": {\"top\": 14, \"left\": 638, \"width\": 66, \"height\": 88}}, {\"faceId\": \"ad9e1e2d-95c7-450d-9859-b593bd8f4b3e\", \"faceRectangle\": {\"top\": 25, \"left\": 343, \"width\": 60, \"height\": 86}}, {\"faceId\": \"e1775398-4499-4b70-998d-c898bd7411f9\", \"faceRectangle\": {\"top\": 176, \"left\": 346, \"width\": 62, \"height\": 79}}, {\"faceId\": \"88001126-20c9-4dd7-bd59-0042d31cfe04\", \"faceRectangle\": {\"top\": 17, \"left\": 39, \"width\": 61, \"height\": 79}}, {\"faceId\": \"f4eeddd3-5214-445c-8248-e99569d7b7e1\", \"faceRectangle\": {\"top\": 170, \"left\": 53, \"width\": 56, \"height\": 78}}, {\"faceId\": \"f03f6cee-f4d6-43d3-ab0b-df8eb8bae933\", \"faceRectangle\": {\"top\": 25, \"left\": 486, \"width\": 52, \"height\": 67}}]\n"
     ]
    }
   ],
   "source": [
    "import json, os, requests\n",
    "\n",
    "subscription_key = \"PASTE_YOUR_SUBSCRIPTION_KEY_HERE\"\n",
    "face_api_url = \"PASTE_YOUR_ENDPOINT_HERE\" + '/face/v1.0/detect'\n",
    "\n",
    "image_url = 'https://uwaterloo.ca/public-health-sciences/sites/ca.public-health-sciences/files/resize/uploads/images/sphhs-people-banner-2019-750x300.jpg' \n",
    "\n",
    "headers = {'Ocp-Apim-Subscription-Key': subscription_key}\n",
    "\n",
    "params = {\n",
    "    'detectionModel': 'detection_03',\n",
    "    'returnFaceId': 'true'\n",
    "}\n",
    "\n",
    "response = requests.post(face_api_url, params=params,\n",
    "                         headers=headers, json={\"url\": image_url})\n",
    "print(json.dumps(response.json()))"
   ]
  },
  {
   "cell_type": "code",
   "execution_count": null,
   "id": "4e521d00",
   "metadata": {},
   "outputs": [],
   "source": [
    "from PIL import Image, ImageDraw\n",
    "import matplotlib.pyplot as plt\n",
    "\n",
    "# Load the image\n",
    "image_path = \"b8a6e3e7-3a43-4848-a5aa-b282fff160a9_07c99f1e.webp\" #save image in local device\n",
    "image = Image.open(image_path)\n",
    "\n",
    "# Define the coordinates for the rectangles\n",
    "rectangles = [\n",
    "    {\"faceRectangle\": {\"top\": 469, \"left\": 1721, \"width\": 348, \"height\": 439}}, \n",
    "    {\"faceRectangle\": {\"top\": 622, \"left\": 2380, \"width\": 323, \"height\": 439}}, \n",
    "    {\"faceRectangle\": {\"top\": 571, \"left\": 1193, \"width\": 295, \"height\": 406}}, \n",
    "    {\"faceRectangle\": {\"top\": 799, \"left\": 3402, \"width\": 283, \"height\": 416}}, \n",
    "    {\"faceRectangle\": {\"top\": 597, \"left\": 3169, \"width\": 269, \"height\": 395}}, \n",
    "    {\"faceRectangle\": {\"top\": 713, \"left\": 1470, \"width\": 262, \"height\": 362}}, \n",
    "    {\"faceRectangle\": {\"top\": 594, \"left\": 2115, \"width\": 237, \"height\": 330}}, \n",
    "    {\"faceRectangle\": {\"top\": 924, \"left\": 980, \"width\": 209, \"height\": 269}}, \n",
    "    {\"faceRectangle\": {\"top\": 824, \"left\": 2881, \"width\": 186, \"height\": 258}}\n",
    "]\n",
    "\n",
    "# Draw rectangles on the image\n",
    "image_with_rectangles = image.copy()\n",
    "draw = ImageDraw.Draw(image_with_rectangles)\n",
    "\n",
    "for rect in rectangles:\n",
    "    top = rect[\"faceRectangle\"][\"top\"]\n",
    "    left = rect[\"faceRectangle\"][\"left\"]\n",
    "    width = rect[\"faceRectangle\"][\"width\"]\n",
    "    height = rect[\"faceRectangle\"][\"height\"]\n",
    "    draw.rectangle([(left, top), (left + width, top + height)], outline=\"yellow\", width=7)\n",
    "\n",
    "# Display the image with rectangles\n",
    "plt.figure(figsize=(10, 10))\n",
    "plt.imshow(image_with_rectangles)\n",
    "plt.axis('off')  # Hide the axes\n",
    "plt.show()\n"
   ]
  }
 ],
 "metadata": {
  "kernelspec": {
   "display_name": "Python 3 (ipykernel)",
   "language": "python",
   "name": "python3"
  },
  "language_info": {
   "codemirror_mode": {
    "name": "ipython",
    "version": 3
   },
   "file_extension": ".py",
   "mimetype": "text/x-python",
   "name": "python",
   "nbconvert_exporter": "python",
   "pygments_lexer": "ipython3",
   "version": "3.10.1"
  }
 },
 "nbformat": 4,
 "nbformat_minor": 5
}
